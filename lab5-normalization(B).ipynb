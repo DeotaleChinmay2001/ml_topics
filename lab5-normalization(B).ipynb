{
 "cells": [
  {
   "cell_type": "code",
   "execution_count": 1,
   "id": "c87e3409",
   "metadata": {},
   "outputs": [],
   "source": [
    "from sklearn import preprocessing\n",
    "import pandas as pd\n",
    "from sklearn.model_selection import train_test_split\n",
    "import tensorflow as tf\n",
    "from tensorflow.python.data import Dataset\n",
    "from tensorflow import keras\n",
    "from tensorflow.keras.utils import to_categorical\n",
    "from keras import layers"
   ]
  },
  {
   "cell_type": "code",
   "execution_count": 2,
   "id": "e50b498e",
   "metadata": {},
   "outputs": [],
   "source": [
    "df = pd.read_csv('covtype.csv')"
   ]
  },
  {
   "cell_type": "code",
   "execution_count": 3,
   "id": "4b2b355d",
   "metadata": {},
   "outputs": [],
   "source": [
    "x = df[df.columns[:55]]\n"
   ]
  },
  {
   "cell_type": "code",
   "execution_count": 4,
   "id": "3eed8716",
   "metadata": {},
   "outputs": [],
   "source": [
    "y = df.Cover_Type\n"
   ]
  },
  {
   "cell_type": "code",
   "execution_count": 5,
   "id": "421f57c4",
   "metadata": {},
   "outputs": [],
   "source": [
    "x_train, x_test, y_train, y_test = train_test_split(x, y , train_size = 0.7, random_state =  90)\n"
   ]
  },
  {
   "cell_type": "code",
   "execution_count": 6,
   "id": "bc9610bf",
   "metadata": {},
   "outputs": [],
   "source": [
    "#Select numerical columns which needs to be normalized\n",
    "train_norm = x_train[x_train.columns[0:10]]\n",
    "test_norm = x_test[x_test.columns[0:10]]\n"
   ]
  },
  {
   "cell_type": "code",
   "execution_count": 7,
   "id": "69a29177",
   "metadata": {},
   "outputs": [],
   "source": [
    "# Normalize Training Data \n",
    "std_scale = preprocessing.StandardScaler().fit(train_norm)\n",
    "x_train_norm = std_scale.transform(train_norm)\n"
   ]
  },
  {
   "cell_type": "code",
   "execution_count": 8,
   "id": "e0254d04",
   "metadata": {},
   "outputs": [
    {
     "name": "stderr",
     "output_type": "stream",
     "text": [
      "C:\\Users\\Admin\\anaconda3\\lib\\site-packages\\pandas\\core\\frame.py:6599: SettingWithCopyWarning: \n",
      "A value is trying to be set on a copy of a slice from a DataFrame.\n",
      "Try using .loc[row_indexer,col_indexer] = value instead\n",
      "\n",
      "See the caveats in the documentation: https://pandas.pydata.org/pandas-docs/stable/user_guide/indexing.html#returning-a-view-versus-a-copy\n",
      "  self[col] = expressions.where(mask, this, that)\n"
     ]
    },
    {
     "name": "stdout",
     "output_type": "stream",
     "text": [
      "        Elevation    Aspect     Slope  Horizontal_Distance_To_Hydrology  \\\n",
      "152044   0.222366 -0.228639 -0.412503                          0.148486   \n",
      "363373   1.980490 -0.469989  0.255453                          3.018822   \n",
      "372733  -1.081933  0.271939  0.389044                         -0.867895   \n",
      "572846  -1.164122 -0.157128 -0.278912                         -1.267860   \n",
      "114145  -0.052787  0.861906  0.255453                         -0.279711   \n",
      "\n",
      "        Vertical_Distance_To_Hydrology  Horizontal_Distance_To_Roadways  \\\n",
      "152044                        0.149095                         1.336119   \n",
      "363373                        4.443372                         0.168073   \n",
      "372733                       -0.160093                        -0.241801   \n",
      "572846                       -0.795646                        -0.461170   \n",
      "114145                       -0.125739                         1.811419   \n",
      "\n",
      "        Hillshade_9am  Hillshade_Noon  Hillshade_3pm  \\\n",
      "152044       1.002687        0.539776      -0.510339   \n",
      "363373       1.227001       -0.270132      -1.190275   \n",
      "372733       0.292357        1.349684       0.378807   \n",
      "572846       0.965301        0.641014      -0.431885   \n",
      "114145      -1.090917        1.299065       1.581770   \n",
      "\n",
      "        Horizontal_Distance_To_Fire_Points  ...  Soil_Type32  Soil_Type33  \\\n",
      "152044                           -0.111226  ...            0            0   \n",
      "363373                           -0.703030  ...            0            0   \n",
      "372733                            0.038235  ...            0            0   \n",
      "572846                           -1.450334  ...            0            0   \n",
      "114145                           -0.328623  ...            0            0   \n",
      "\n",
      "        Soil_Type34  Soil_Type35  Soil_Type36  Soil_Type37  Soil_Type38  \\\n",
      "152044            0            0            0            0            0   \n",
      "363373            0            0            0            0            0   \n",
      "372733            0            0            0            0            0   \n",
      "572846            0            0            0            0            0   \n",
      "114145            0            0            0            0            0   \n",
      "\n",
      "        Soil_Type39  Soil_Type40  Cover_Type  \n",
      "152044            0            0           2  \n",
      "363373            0            1           1  \n",
      "372733            0            0           3  \n",
      "572846            0            0           2  \n",
      "114145            0            0           2  \n",
      "\n",
      "[5 rows x 55 columns]\n"
     ]
    }
   ],
   "source": [
    "#Converting numpy array to dataframe\n",
    "training_norm_col = pd.DataFrame(x_train_norm, index=train_norm.index, columns=train_norm.columns) \n",
    "x_train.update(training_norm_col)\n",
    "print (x_train.head())\n"
   ]
  },
  {
   "cell_type": "code",
   "execution_count": 9,
   "id": "55944599",
   "metadata": {},
   "outputs": [
    {
     "name": "stderr",
     "output_type": "stream",
     "text": [
      "C:\\Users\\Admin\\anaconda3\\lib\\site-packages\\pandas\\core\\frame.py:6599: SettingWithCopyWarning: \n",
      "A value is trying to be set on a copy of a slice from a DataFrame.\n",
      "Try using .loc[row_indexer,col_indexer] = value instead\n",
      "\n",
      "See the caveats in the documentation: https://pandas.pydata.org/pandas-docs/stable/user_guide/indexing.html#returning-a-view-versus-a-copy\n",
      "  self[col] = expressions.where(mask, this, that)\n"
     ]
    },
    {
     "name": "stdout",
     "output_type": "stream",
     "text": [
      "        Elevation    Aspect     Slope  Horizontal_Distance_To_Hydrology  \\\n",
      "152044   0.222366 -0.228639 -0.412503                          0.148486   \n",
      "363373   1.980490 -0.469989  0.255453                          3.018822   \n",
      "372733  -1.081933  0.271939  0.389044                         -0.867895   \n",
      "572846  -1.164122 -0.157128 -0.278912                         -1.267860   \n",
      "114145  -0.052787  0.861906  0.255453                         -0.279711   \n",
      "\n",
      "        Vertical_Distance_To_Hydrology  Horizontal_Distance_To_Roadways  \\\n",
      "152044                        0.149095                         1.336119   \n",
      "363373                        4.443372                         0.168073   \n",
      "372733                       -0.160093                        -0.241801   \n",
      "572846                       -0.795646                        -0.461170   \n",
      "114145                       -0.125739                         1.811419   \n",
      "\n",
      "        Hillshade_9am  Hillshade_Noon  Hillshade_3pm  \\\n",
      "152044       1.002687        0.539776      -0.510339   \n",
      "363373       1.227001       -0.270132      -1.190275   \n",
      "372733       0.292357        1.349684       0.378807   \n",
      "572846       0.965301        0.641014      -0.431885   \n",
      "114145      -1.090917        1.299065       1.581770   \n",
      "\n",
      "        Horizontal_Distance_To_Fire_Points  ...  Soil_Type32  Soil_Type33  \\\n",
      "152044                           -0.111226  ...            0            0   \n",
      "363373                           -0.703030  ...            0            0   \n",
      "372733                            0.038235  ...            0            0   \n",
      "572846                           -1.450334  ...            0            0   \n",
      "114145                           -0.328623  ...            0            0   \n",
      "\n",
      "        Soil_Type34  Soil_Type35  Soil_Type36  Soil_Type37  Soil_Type38  \\\n",
      "152044            0            0            0            0            0   \n",
      "363373            0            0            0            0            0   \n",
      "372733            0            0            0            0            0   \n",
      "572846            0            0            0            0            0   \n",
      "114145            0            0            0            0            0   \n",
      "\n",
      "        Soil_Type39  Soil_Type40  Cover_Type  \n",
      "152044            0            0           2  \n",
      "363373            0            1           1  \n",
      "372733            0            0           3  \n",
      "572846            0            0           2  \n",
      "114145            0            0           2  \n",
      "\n",
      "[5 rows x 55 columns]\n"
     ]
    }
   ],
   "source": [
    "# Normalize Testing Data by using mean and SD of training set\n",
    "x_test_norm = std_scale.transform(test_norm)\n",
    "testing_norm_col = pd.DataFrame(x_test_norm, index=test_norm.index, columns=test_norm.columns) \n",
    "x_test.update(testing_norm_col)\n",
    "print (x_train.head())"
   ]
  },
  {
   "cell_type": "code",
   "execution_count": 10,
   "id": "d01d0120",
   "metadata": {},
   "outputs": [],
   "source": [
    "#Build neural network model with normalized data\n",
    "model = keras.Sequential([\n",
    " keras.layers.Dense(64, activation=tf.nn.relu,                  \n",
    " input_shape=(x_train.shape[1],)),\n",
    " keras.layers.Dense(64, activation=tf.nn.relu),\n",
    " keras.layers.Dense(8, activation=  'softmax')\n",
    " ])\n"
   ]
  },
  {
   "cell_type": "code",
   "execution_count": 11,
   "id": "a4d099de",
   "metadata": {},
   "outputs": [
    {
     "name": "stdout",
     "output_type": "stream",
     "text": [
      "Epoch 1/26\n",
      "6779/6779 [==============================] - 18s 3ms/step - loss: 0.0284 - accuracy: 0.9919 - val_loss: 2.9082e-04 - val_accuracy: 0.9999\n",
      "Epoch 2/26\n",
      "6779/6779 [==============================] - 18s 3ms/step - loss: 4.5562e-04 - accuracy: 0.9999 - val_loss: 5.6853e-04 - val_accuracy: 0.9998\n",
      "Epoch 3/26\n",
      "6779/6779 [==============================] - 18s 3ms/step - loss: 1.3852e-04 - accuracy: 1.0000 - val_loss: 6.8381e-06 - val_accuracy: 1.0000\n",
      "Epoch 4/26\n",
      "6779/6779 [==============================] - 18s 3ms/step - loss: 3.4222e-06 - accuracy: 1.0000 - val_loss: 4.4730e-07 - val_accuracy: 1.0000\n",
      "Epoch 5/26\n",
      "6779/6779 [==============================] - 17s 3ms/step - loss: 2.8505e-04 - accuracy: 0.9999 - val_loss: 1.5840e-06 - val_accuracy: 1.0000\n",
      "Epoch 6/26\n",
      "6779/6779 [==============================] - 19s 3ms/step - loss: 1.1612e-04 - accuracy: 1.0000 - val_loss: 6.5937e-04 - val_accuracy: 0.9997\n",
      "Epoch 7/26\n",
      "6779/6779 [==============================] - 17s 2ms/step - loss: 2.3078e-04 - accuracy: 0.9999 - val_loss: 2.4169e-06 - val_accuracy: 1.0000\n",
      "Epoch 8/26\n",
      "6779/6779 [==============================] - 17s 3ms/step - loss: 8.5541e-07 - accuracy: 1.0000 - val_loss: 1.8925e-07 - val_accuracy: 1.0000\n",
      "Epoch 9/26\n",
      "6779/6779 [==============================] - 15s 2ms/step - loss: 9.3245e-05 - accuracy: 1.0000 - val_loss: 2.2773e-07 - val_accuracy: 1.0000\n",
      "Epoch 10/26\n",
      "6779/6779 [==============================] - 15s 2ms/step - loss: 2.0739e-04 - accuracy: 0.9999 - val_loss: 4.0282e-07 - val_accuracy: 1.0000\n",
      "Epoch 11/26\n",
      "6779/6779 [==============================] - 15s 2ms/step - loss: 2.5081e-04 - accuracy: 1.0000 - val_loss: 2.9156e-06 - val_accuracy: 1.0000\n",
      "Epoch 12/26\n",
      "6779/6779 [==============================] - 16s 2ms/step - loss: 1.6744e-04 - accuracy: 1.0000 - val_loss: 1.0046e-06 - val_accuracy: 1.0000\n",
      "Epoch 13/26\n",
      "6779/6779 [==============================] - 17s 3ms/step - loss: 2.9540e-07 - accuracy: 1.0000 - val_loss: 2.8703e-07 - val_accuracy: 1.0000\n",
      "Epoch 14/26\n",
      "6779/6779 [==============================] - 19s 3ms/step - loss: 1.9335e-04 - accuracy: 1.0000 - val_loss: 5.3694e-07 - val_accuracy: 1.0000\n",
      "Epoch 15/26\n",
      "6779/6779 [==============================] - 19s 3ms/step - loss: 7.6342e-08 - accuracy: 1.0000 - val_loss: 4.0148e-07 - val_accuracy: 1.0000\n",
      "Epoch 16/26\n",
      "6779/6779 [==============================] - 19s 3ms/step - loss: 4.8995e-09 - accuracy: 1.0000 - val_loss: 5.1964e-08 - val_accuracy: 1.0000\n",
      "Epoch 17/26\n",
      "6779/6779 [==============================] - 20s 3ms/step - loss: 7.0067e-05 - accuracy: 1.0000 - val_loss: 0.0020 - val_accuracy: 0.9996\n",
      "Epoch 18/26\n",
      "6779/6779 [==============================] - 19s 3ms/step - loss: 1.5981e-05 - accuracy: 1.0000 - val_loss: 3.6009e-08 - val_accuracy: 1.0000\n",
      "Epoch 19/26\n",
      "6779/6779 [==============================] - 19s 3ms/step - loss: 1.9991e-04 - accuracy: 1.0000 - val_loss: 6.5684e-05 - val_accuracy: 1.0000\n",
      "Epoch 20/26\n",
      "6779/6779 [==============================] - 20s 3ms/step - loss: 2.4828e-04 - accuracy: 0.9999 - val_loss: 8.0548e-06 - val_accuracy: 1.0000\n",
      "Epoch 21/26\n",
      "6779/6779 [==============================] - 19s 3ms/step - loss: 1.0424e-04 - accuracy: 1.0000 - val_loss: 8.1253e-07 - val_accuracy: 1.0000\n",
      "Epoch 22/26\n",
      "6779/6779 [==============================] - 20s 3ms/step - loss: 7.6874e-05 - accuracy: 1.0000 - val_loss: 4.0449e-07 - val_accuracy: 1.0000\n",
      "Epoch 23/26\n",
      "6779/6779 [==============================] - 18s 3ms/step - loss: 7.6576e-08 - accuracy: 1.0000 - val_loss: 1.2836e-07 - val_accuracy: 1.0000\n",
      "Epoch 24/26\n",
      "6779/6779 [==============================] - 20s 3ms/step - loss: 4.9573e-09 - accuracy: 1.0000 - val_loss: 7.2629e-08 - val_accuracy: 1.0000\n",
      "Epoch 25/26\n",
      "6779/6779 [==============================] - 21s 3ms/step - loss: 6.0321e-10 - accuracy: 1.0000 - val_loss: 1.0826e-09 - val_accuracy: 1.0000\n",
      "Epoch 26/26\n",
      "6779/6779 [==============================] - 19s 3ms/step - loss: 8.7932e-11 - accuracy: 1.0000 - val_loss: 2.0128e-08 - val_accuracy: 1.0000\n"
     ]
    }
   ],
   "source": [
    "model.compile(optimizer= tf.keras.optimizers.Adam(),\n",
    "              loss='sparse_categorical_crossentropy',\n",
    "              metrics=['accuracy'])\n",
    "history2 = model.fit(\n",
    " x_train, y_train,\n",
    " epochs= 26, batch_size = 60,\n",
    " validation_data = (x_test, y_test))"
   ]
  }
 ],
 "metadata": {
  "kernelspec": {
   "display_name": "Python 3",
   "language": "python",
   "name": "python3"
  },
  "language_info": {
   "codemirror_mode": {
    "name": "ipython",
    "version": 3
   },
   "file_extension": ".py",
   "mimetype": "text/x-python",
   "name": "python",
   "nbconvert_exporter": "python",
   "pygments_lexer": "ipython3",
   "version": "3.8.8"
  }
 },
 "nbformat": 4,
 "nbformat_minor": 5
}
